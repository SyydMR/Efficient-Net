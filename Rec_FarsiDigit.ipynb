{
 "cells": [
  {
   "cell_type": "code",
   "execution_count": 1,
   "id": "879945c4-2621-49bf-87e2-fcdc4fd52daa",
   "metadata": {},
   "outputs": [],
   "source": [
    "import os\n",
    "os.environ['TF_CPP_MIN_LOG_LEVEL'] = '20'"
   ]
  },
  {
   "cell_type": "code",
   "execution_count": 2,
   "id": "48686c62-704e-4222-888d-ee22ea414d3a",
   "metadata": {},
   "outputs": [],
   "source": [
    "import matplotlib.pyplot as plt\n",
    "import cv2\n",
    "import numpy as np\n",
    "import random\n",
    "import keras\n",
    "import tensorflow as tf\n",
    "import scipy\n",
    "import sklearn"
   ]
  },
  {
   "cell_type": "code",
   "execution_count": 3,
   "id": "f6578ed7-f964-48b4-a0f2-627d2228856a",
   "metadata": {},
   "outputs": [],
   "source": [
    "from Dataset.HodaDatasetReader import read_hoda_cdb, read_hoda_dataset"
   ]
  },
  {
   "cell_type": "code",
   "execution_count": 4,
   "id": "d63d640c-7d31-43b1-b004-0284946e84eb",
   "metadata": {},
   "outputs": [],
   "source": [
    "hoda = scipy.io.loadmat('Dataset/archive/Data_hoda_full.mat')"
   ]
  },
  {
   "cell_type": "code",
   "execution_count": 5,
   "id": "98f2ac05-e1f2-437f-8b48-803a70cc0d33",
   "metadata": {},
   "outputs": [
    {
     "name": "stdout",
     "output_type": "stream",
     "text": [
      "(60000, 1)\n"
     ]
    }
   ],
   "source": [
    "print(hoda['Data'].shape)"
   ]
  },
  {
   "cell_type": "code",
   "execution_count": 6,
   "id": "17e04f28-74db-4f95-89df-f1b7816ffe59",
   "metadata": {},
   "outputs": [],
   "source": [
    "data = hoda['Data'].reshape(-1)\n",
    "labels = hoda['labels'].reshape(-1)"
   ]
  },
  {
   "cell_type": "code",
   "execution_count": 7,
   "id": "7964e238-d3f8-4d9d-b3eb-12332b1aca4e",
   "metadata": {},
   "outputs": [],
   "source": [
    "depth_factor = 1.2\n",
    "width_factor = 1.1\n",
    "resolution_factor = 1.1\n",
    "input_shape = (int(32 * resolution_factor), int(32 * resolution_factor))\n",
    "n_classes = 10"
   ]
  },
  {
   "cell_type": "code",
   "execution_count": 8,
   "id": "8fe87727-ecac-45f0-966c-ed21f2abfb5d",
   "metadata": {},
   "outputs": [
    {
     "name": "stdout",
     "output_type": "stream",
     "text": [
      "(20, 21)\n",
      "(10, 15)\n",
      "(36, 17)\n",
      "(36, 28)\n",
      "(12, 14)\n",
      "-----------\n",
      "(35, 35)\n",
      "(35, 35)\n",
      "(35, 35)\n",
      "(35, 35)\n",
      "(35, 35)\n"
     ]
    }
   ],
   "source": [
    "for i in range(1,6):\n",
    "    print(data[i].shape)\n",
    "data_resized = np.array([cv2.resize(img, dsize=input_shape) for img in data])\n",
    "print(\"-----------\")\n",
    "for i in range(1,6):\n",
    "    print(data_resized[i].shape)"
   ]
  },
  {
   "cell_type": "code",
   "execution_count": 9,
   "id": "2c3c937f-73c6-4b31-9d76-49543f74a8f7",
   "metadata": {},
   "outputs": [],
   "source": [
    "data_norm = data_resized / 255"
   ]
  },
  {
   "cell_type": "code",
   "execution_count": 10,
   "id": "28f7e05f-9293-4a01-a4cb-3a557cdd2ae0",
   "metadata": {},
   "outputs": [],
   "source": [
    "from sklearn.model_selection import train_test_split\n",
    "\n",
    "X_train, X_test, y_train, y_test = train_test_split(data_norm, labels, test_size=0.2, random_state=42)"
   ]
  },
  {
   "cell_type": "code",
   "execution_count": 11,
   "id": "1cc1757f-92da-46de-b4ed-96c4cc221cb8",
   "metadata": {},
   "outputs": [
    {
     "data": {
      "image/png": "[encoded data removed]",
      "text/plain": [
       "<Figure size 1500x1000 with 10 Axes>"
      ]
     },
     "metadata": {},
     "output_type": "display_data"
    }
   ],
   "source": [
    "import matplotlib.pyplot as plt\n",
    "import numpy as np\n",
    "import random\n",
    "\n",
    "random_indices = random.sample(range(X_train.shape[0]), 10)\n",
    "\n",
    "plt.figure(figsize=(15, 10))\n",
    "\n",
    "for i, idx in enumerate(random_indices):\n",
    "    plt.subplot(4, 5, i + 1)\n",
    "    plt.imshow(X_train[idx].reshape(input_shape[0], input_shape[1]), cmap='gray')\n",
    "    plt.title(f\"Label: {y_train[idx]}\")\n",
    "    plt.axis('off')\n",
    "\n",
    "plt.tight_layout()\n",
    "plt.show()"
   ]
  },
  {
   "cell_type": "code",
   "execution_count": 12,
   "id": "3bfc0c2c-2ff8-4773-9fd9-42b0049486c8",
   "metadata": {},
   "outputs": [],
   "source": [
    "y_train_cat = keras.utils.to_categorical(y_train, n_classes)\n",
    "y_test_cat = keras.utils.to_categorical(y_test,n_classes)"
   ]
  },
  {
   "cell_type": "code",
   "execution_count": 13,
   "id": "7155cc60-f1ff-466f-bb39-72129e739b74",
   "metadata": {},
   "outputs": [],
   "source": [
    "import keras\n",
    "from keras.layers import Dense\n",
    "from keras.models import Sequential"
   ]
  },
  {
   "cell_type": "code",
   "execution_count": 14,
   "id": "ec217655-c89d-4376-bc3d-222e4a9e85f8",
   "metadata": {},
   "outputs": [],
   "source": [
    "num_classes = 10"
   ]
  },
  {
   "cell_type": "code",
   "execution_count": 15,
   "id": "d9876fd8-5683-459e-aa35-89541d7f6c1c",
   "metadata": {},
   "outputs": [],
   "source": [
    "from keras import layers, models"
   ]
  },
  {
   "cell_type": "code",
   "execution_count": 16,
   "id": "bbb9a876-5f62-42c4-ad9e-efefb4ab359e",
   "metadata": {},
   "outputs": [],
   "source": [
    "def build_efficientnet(input_shape, num_classes, depth_factor=1.0, width_factor=1.0):\n",
    "    inputs = layers.Input(shape=input_shape)\n",
    "    x = layers.Conv2D(int(32 * width_factor), (3, 3), padding='same')(inputs)\n",
    "    x = layers.BatchNormalization()(x)\n",
    "    x = layers.ReLU()(x)\n",
    "    \n",
    "    for _ in range(int(2 * depth_factor)):\n",
    "        x = layers.Conv2D(int(64 * width_factor), (3, 3), padding='same')(x)\n",
    "        x = layers.BatchNormalization()(x)\n",
    "        x = layers.ReLU()(x)\n",
    "    \n",
    "    for _ in range(int(3 * depth_factor)):\n",
    "        x = layers.Conv2D(int(128 * width_factor), (3, 3), padding='same')(x)\n",
    "        x = layers.BatchNormalization()(x)\n",
    "        x = layers.ReLU()(x)\n",
    "    \n",
    "    x = layers.GlobalAveragePooling2D()(x)\n",
    "    x = layers.Dense(int(128 * width_factor), activation='relu')(x)\n",
    "    outputs = layers.Dense(num_classes, activation='softmax')(x)\n",
    "\n",
    "    model = models.Model(inputs, outputs)\n",
    "    return model\n",
    "input_shape = (int(32 * resolution_factor), int(32 * resolution_factor), 1)\n",
    "num_classes = 10\n",
    "model = build_efficientnet(input_shape, num_classes, depth_factor, width_factor)"
   ]
  },
  {
   "cell_type": "code",
   "execution_count": 17,
   "id": "8dff4ce9-1611-44e2-b8eb-648a72aab9cb",
   "metadata": {},
   "outputs": [
    {
     "name": "stdout",
     "output_type": "stream",
     "text": [
      "Model: \"model\"\n",
      "_________________________________________________________________\n",
      " Layer (type)                Output Shape              Param #   \n",
      "=================================================================\n",
      " input_1 (InputLayer)        [(None, 35, 35, 1)]       0         \n",
      "                                                                 \n",
      " conv2d (Conv2D)             (None, 35, 35, 35)        350       \n",
      "                                                                 \n",
      " batch_normalization (Batch  (None, 35, 35, 35)        140       \n",
      " Normalization)                                                  \n",
      "                                                                 \n",
      " re_lu (ReLU)                (None, 35, 35, 35)        0         \n",
      "                                                                 \n",
      " conv2d_1 (Conv2D)           (None, 35, 35, 70)        22120     \n",
      "                                                                 \n",
      " batch_normalization_1 (Bat  (None, 35, 35, 70)        280       \n",
      " chNormalization)                                                \n",
      "                                                                 \n",
      " re_lu_1 (ReLU)              (None, 35, 35, 70)        0         \n",
      "                                                                 \n",
      " conv2d_2 (Conv2D)           (None, 35, 35, 70)        44170     \n",
      "                                                                 \n",
      " batch_normalization_2 (Bat  (None, 35, 35, 70)        280       \n",
      " chNormalization)                                                \n",
      "                                                                 \n",
      " re_lu_2 (ReLU)              (None, 35, 35, 70)        0         \n",
      "                                                                 \n",
      " conv2d_3 (Conv2D)           (None, 35, 35, 140)       88340     \n",
      "                                                                 \n",
      " batch_normalization_3 (Bat  (None, 35, 35, 140)       560       \n",
      " chNormalization)                                                \n",
      "                                                                 \n",
      " re_lu_3 (ReLU)              (None, 35, 35, 140)       0         \n",
      "                                                                 \n",
      " conv2d_4 (Conv2D)           (None, 35, 35, 140)       176540    \n",
      "                                                                 \n",
      " batch_normalization_4 (Bat  (None, 35, 35, 140)       560       \n",
      " chNormalization)                                                \n",
      "                                                                 \n",
      " re_lu_4 (ReLU)              (None, 35, 35, 140)       0         \n",
      "                                                                 \n",
      " conv2d_5 (Conv2D)           (None, 35, 35, 140)       176540    \n",
      "                                                                 \n",
      " batch_normalization_5 (Bat  (None, 35, 35, 140)       560       \n",
      " chNormalization)                                                \n",
      "                                                                 \n",
      " re_lu_5 (ReLU)              (None, 35, 35, 140)       0         \n",
      "                                                                 \n",
      " global_average_pooling2d (  (None, 140)               0         \n",
      " GlobalAveragePooling2D)                                         \n",
      "                                                                 \n",
      " dense (Dense)               (None, 140)               19740     \n",
      "                                                                 \n",
      " dense_1 (Dense)             (None, 10)                1410      \n",
      "                                                                 \n",
      "=================================================================\n",
      "Total params: 531590 (2.03 MB)\n",
      "Trainable params: 530400 (2.02 MB)\n",
      "Non-trainable params: 1190 (4.65 KB)\n",
      "_________________________________________________________________\n"
     ]
    }
   ],
   "source": [
    "model.summary()"
   ]
  },
  {
   "cell_type": "code",
   "execution_count": 18,
   "id": "eba701d6-562e-4f8f-9747-bd957c5d965f",
   "metadata": {},
   "outputs": [],
   "source": [
    "model.compile(loss = 'categorical_crossentropy',optimizer='adam', \n",
    "              metrics=['accuracy'])"
   ]
  },
  {
   "cell_type": "code",
   "execution_count": 19,
   "id": "93d092ec-bedd-4c9d-8ad5-1c0ac80677d1",
   "metadata": {},
   "outputs": [
    {
     "name": "stdout",
     "output_type": "stream",
     "text": [
      "Epoch 1/10\n"
     ]
    },
    {
     "name": "stderr",
     "output_type": "stream",
     "text": [
      "WARNING: All log messages before absl::InitializeLog() is called are written to STDERR\n",
      "I0000 00:00:1724496676.409512   41496 device_compiler.h:186] Compiled cluster using XLA!  This line is logged at most once for the lifetime of the process.\n"
     ]
    },
    {
     "name": "stdout",
     "output_type": "stream",
     "text": [
      "1500/1500 [==============================] - 86s 54ms/step - loss: 0.1478 - accuracy: 0.9603 - val_loss: 0.0886 - val_accuracy: 0.9736\n",
      "Epoch 2/10\n",
      "1500/1500 [==============================] - 81s 54ms/step - loss: 0.0441 - accuracy: 0.9864 - val_loss: 0.0742 - val_accuracy: 0.9739\n",
      "Epoch 3/10\n",
      "1500/1500 [==============================] - 82s 54ms/step - loss: 0.0331 - accuracy: 0.9899 - val_loss: 0.0662 - val_accuracy: 0.9782\n",
      "Epoch 4/10\n",
      "1500/1500 [==============================] - 82s 55ms/step - loss: 0.0290 - accuracy: 0.9911 - val_loss: 0.0467 - val_accuracy: 0.9851\n",
      "Epoch 5/10\n",
      "1500/1500 [==============================] - 82s 55ms/step - loss: 0.0241 - accuracy: 0.9922 - val_loss: 0.3700 - val_accuracy: 0.8928\n",
      "Epoch 6/10\n",
      "1500/1500 [==============================] - 82s 55ms/step - loss: 0.0212 - accuracy: 0.9935 - val_loss: 0.0650 - val_accuracy: 0.9814\n",
      "Epoch 7/10\n",
      "1500/1500 [==============================] - 82s 55ms/step - loss: 0.0202 - accuracy: 0.9936 - val_loss: 0.8129 - val_accuracy: 0.9187\n",
      "Epoch 8/10\n",
      "1500/1500 [==============================] - 82s 55ms/step - loss: 0.0180 - accuracy: 0.9943 - val_loss: 0.0554 - val_accuracy: 0.9833\n",
      "Epoch 9/10\n",
      "1500/1500 [==============================] - 82s 55ms/step - loss: 0.0144 - accuracy: 0.9953 - val_loss: 0.0226 - val_accuracy: 0.9926\n",
      "Epoch 10/10\n",
      "1500/1500 [==============================] - 82s 55ms/step - loss: 0.0154 - accuracy: 0.9947 - val_loss: 0.0401 - val_accuracy: 0.9881\n"
     ]
    }
   ],
   "source": [
    "history = model.fit(X_train, y_train_cat, batch_size=32, epochs=10, validation_data=(X_test, y_test_cat))"
   ]
  },
  {
   "cell_type": "code",
   "execution_count": 20,
   "id": "ae2355ea-5704-4a52-a698-0b2fb711b050",
   "metadata": {},
   "outputs": [
    {
     "data": {
      "image/png": "[encoded data removed]",
      "text/plain": [
       "<Figure size 640x480 with 1 Axes>"
      ]
     },
     "metadata": {},
     "output_type": "display_data"
    }
   ],
   "source": [
    "plt.plot(history.history['accuracy'], label='Train Accuracy')\n",
    "plt.plot(history.history['val_accuracy'], label='Test Accuracy')\n",
    "plt.legend()\n",
    "plt.show()"
   ]
  }
 ],
 "metadata": {
  "kernelspec": {
   "display_name": "Python 3 (ipykernel)",
   "language": "python",
   "name": "python3"
  },
  "language_info": {
   "codemirror_mode": {
    "name": "ipython",
    "version": 3
   },
   "file_extension": ".py",
   "mimetype": "text/x-python",
   "name": "python",
   "nbconvert_exporter": "python",
   "pygments_lexer": "ipython3",
   "version": "3.11.5"
  }
 },
 "nbformat": 4,
 "nbformat_minor": 5
}
